{
 "cells": [
  {
   "cell_type": "markdown",
   "id": "7b93f521-ecd9-49ae-841d-f9b0c7f60b0f",
   "metadata": {},
   "source": [
    "# Data Science Tools and Ecosystem"
   ]
  },
  {
   "cell_type": "markdown",
   "id": "6f405829-dd6e-4e7b-bb33-d8d2f8f9d457",
   "metadata": {},
   "source": [
    "In this notebook, Data Science Tools and Ecosystem are summarized."
   ]
  },
  {
   "cell_type": "markdown",
   "id": "c6761f52-3b48-44ed-843a-ea9a6806e43b",
   "metadata": {},
   "source": [
    "Some of the popular languages that Data Scientists use are:"
   ]
  },
  {
   "cell_type": "markdown",
   "id": "d96b6793-fece-4150-b058-406448d665cc",
   "metadata": {},
   "source": [
    "1. Python\n",
    "2. R\n",
    "3. SQL\n",
    "4. Scala\n",
    "5. Java\n",
    "6. C++\n",
    "7. Julia\n",
    "8. JavaScript\n",
    "9. PHP\n",
    "10. Go\n",
    "11. Ruby\n",
    "12. Visual Basic"
   ]
  },
  {
   "cell_type": "markdown",
   "id": "9916fb4d-2598-41ed-bf71-ad3a9a6c114f",
   "metadata": {},
   "source": [
    "Some of the popular languages that Data Scientists use are:"
   ]
  },
  {
   "cell_type": "markdown",
   "id": "4949b08c-2591-4625-bf02-1e2cc63dfd68",
   "metadata": {},
   "source": [
    "- Pandas: A library for data manipulation and analysis in Python.\n",
    "- NumPy: A library for numerical computing in Python.\n",
    "- Matplotlib: A library for data visualization in Python.\n",
    "- Seaborn: A high-level visualization library based on Matplotlib.\n",
    "- Scikit-learn: A library for machine learning in Python.\n",
    "- Keras: A high-level deep learning library in Python.\n",
    "- TensorFlow: A low-level framework for deep learning in Python.\n",
    "- Apache Spark: A general-purpose cluster-computing framework for big data processing.\n",
    "- ggplot2: A popular data visualization library in R.\n",
    "- Weka: A data mining library in Java.\n",
    "- Java-ML: A machine learning library in Java.\n",
    "- Apache MLlib: A scalable machine learning library in Java.\n",
    "- Caffe: A deep learning algorithm repository in C++.\n",
    "- TensorFlow.js: A JavaScript library for machine learning and deep learning.\n",
    "- JuliaDB: A package for working with large persistent data sets in Julia."
   ]
  },
  {
   "cell_type": "markdown",
   "id": "2a852c20-8950-48fb-a8a0-7d0bc78fa2b4",
   "metadata": {},
   "source": [
    "Some of the commonly used libraries used by Data Scientists include:"
   ]
  },
  {
   "cell_type": "markdown",
   "id": "d9e6013f-5aab-4905-a6d1-17fdbb961843",
   "metadata": {},
   "source": [
    "- Panda\n",
    "- NumPy\n",
    "- Matplotlib\n",
    "- Seaborn\n",
    "- Scikit-learn\n",
    "- Keras\n",
    "- TensorFlow\n",
    "- Apache Spark\n",
    "- ggplot2\n",
    "- Weka\n",
    "- Java-ML\n",
    "- Apache MLlib\n",
    "- Caffe\n",
    "- TensorFlow.js\n",
    "- JuliaDB"
   ]
  },
  {
   "cell_type": "markdown",
   "id": "5dbbb6df-b679-4751-9efc-b9399547535c",
   "metadata": {},
   "source": [
    "|Data Science Tools|\n",
    "|---|\n",
    "|Jupyter Notebooks|\n",
    "|RStudio|\n",
    "|Git and GitHub|"
   ]
  },
  {
   "cell_type": "markdown",
   "id": "ff635c9c-5d33-4c51-a593-1c7079b272bd",
   "metadata": {},
   "source": [
    "### Below are a few examples of evaluating arithmetic expressions in Python"
   ]
  },
  {
   "cell_type": "markdown",
   "id": "ac04cbb9-0062-4099-81ad-dd2a252ee0a6",
   "metadata": {},
   "source": [
    "This a simple arithmetic expression to mutiply then add integers"
   ]
  },
  {
   "cell_type": "code",
   "execution_count": 43,
   "id": "16765beb-8256-4e0d-8a38-f6e3335b250b",
   "metadata": {},
   "outputs": [
    {
     "data": {
      "text/plain": [
       "17"
      ]
     },
     "execution_count": 43,
     "metadata": {},
     "output_type": "execute_result"
    }
   ],
   "source": [
    "(3*4)+5"
   ]
  },
  {
   "cell_type": "markdown",
   "id": "5d81d9fd-1779-4028-be5b-eaca9f4a9e6d",
   "metadata": {},
   "source": [
    "This will convert 200 minutes to hours by diving by 60"
   ]
  },
  {
   "cell_type": "code",
   "execution_count": 47,
   "id": "c9dd0e08-31d4-4948-a707-5e7e5228d845",
   "metadata": {},
   "outputs": [
    {
     "data": {
      "text/plain": [
       "3.3333333333333335"
      ]
     },
     "execution_count": 47,
     "metadata": {},
     "output_type": "execute_result"
    }
   ],
   "source": [
    "200/60"
   ]
  },
  {
   "cell_type": "markdown",
   "id": "4b03898c-5f94-4008-adc8-b79ca258bf19",
   "metadata": {},
   "source": [
    "**Objectives:**"
   ]
  },
  {
   "cell_type": "markdown",
   "id": "ea51ff11-60b9-4275-b07d-7e40f983fcd2",
   "metadata": {},
   "source": [
    "List popular languages for Data Science:\n",
    "- Python\n",
    "- R\n",
    "- SQL\n",
    "- Scala\n",
    "- Java\n",
    "- C++\n",
    "- Julia\n",
    "- JavaScript\n",
    "- PHP\n",
    "- Go\n",
    "- Ruby\n",
    "- Visual Basic"
   ]
  },
  {
   "attachments": {},
   "cell_type": "markdown",
   "id": "d24e8dcb-27b9-4feb-82a9-6d226fbe4b19",
   "metadata": {},
   "source": [
    "## Author\n",
    "\n",
    "Alfin Rizky\n"
   ]
  },
  {
   "cell_type": "code",
   "execution_count": null,
   "id": "9e84368a-8dd0-44aa-95b1-4626d03055e5",
   "metadata": {},
   "outputs": [],
   "source": []
  }
 ],
 "metadata": {
  "kernelspec": {
   "display_name": "Python 3 (ipykernel)",
   "language": "python",
   "name": "python3"
  },
  "language_info": {
   "codemirror_mode": {
    "name": "ipython",
    "version": 3
   },
   "file_extension": ".py",
   "mimetype": "text/x-python",
   "name": "python",
   "nbconvert_exporter": "python",
   "pygments_lexer": "ipython3",
   "version": "3.11.4"
  }
 },
 "nbformat": 4,
 "nbformat_minor": 5
}
